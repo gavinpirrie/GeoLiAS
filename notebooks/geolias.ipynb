{
 "cells": [
  {
   "cell_type": "markdown",
   "metadata": {},
   "source": [
    "# GeoLiAs #\n",
    "\n",
    "Using [geemap](https://geemap.org/) to analyze lineaments generated from Landsat 7 and SRTM. Edges (lineaments) were detected using [Canny Edge Detector](https://developers.google.com/earth-engine/apidocs/ee-algorithms-cannyedgedetector?hl=en) and further analyzed through [Hough Transform](https://developers.google.com/earth-engine/apidocs/ee-algorithms-houghtransform?hl=en).\n",
    "\n",
    "Layer tab in top right can turn on/off layers as well as change opacity.\n",
    "\n",
    "To start, just click submit in the bottom to get produce some lineaments.\n",
    "\n",
    "Change the thresholds and sigma and click submit to change the visualization.\n",
    "\n",
    "Data Sources -\n",
    "* [SRTM](https://developers.google.com/earth-engine/datasets/catalog/NASA_NASADEM_HGT_001?hl=en) DEM (blue)\n",
    "* [Landsat 7](https://developers.google.com/earth-engine/datasets/catalog/LANDSAT_LE07_C01_T1?hl=en) (red)"
   ]
  },
  {
   "cell_type": "code",
   "execution_count": 33,
   "metadata": {},
   "outputs": [
    {
     "data": {
      "application/vnd.jupyter.widget-view+json": {
       "model_id": "ac00c1194cac43fd8defc75110dc628d",
       "version_major": 2,
       "version_minor": 0
      },
      "text/plain": [
       "Map(center=[40, -100], controls=(WidgetControl(options=['position', 'transparent_bg'], widget=HBox(children=(T…"
      ]
     },
     "metadata": {},
     "output_type": "display_data"
    }
   ],
   "source": [
    "# Import earth engine, geemap, ipywidgets\n",
    "\n",
    "import ee\n",
    "import geemap\n",
    "import ipywidgets as widgets\n",
    "from datetime import date\n",
    "geemap.ee_initialize()\n",
    "\n",
    "today = str(date.today())\n",
    "\n",
    "Map = geemap.Map()\n",
    "\n",
    "# Load country boundaries\n",
    "ctryBnd = ee.FeatureCollection(\"FAO/GAUL/2015/level0\")\n",
    "\n",
    "Map.addLayer(ctryBnd,\n",
    "            {},\n",
    "            'Countries',\n",
    "            False,\n",
    "            )\n",
    "\n",
    "Map\n"
   ]
  },
  {
   "cell_type": "code",
   "execution_count": 34,
   "metadata": {},
   "outputs": [],
   "source": [
    "# Define data sources\n",
    "\n",
    "dataSources = {\n",
    "    \"Landsat 7\": \"LANDSAT/LE07/C01/T1\",\n",
    "    \"Landsat 8\": \"LANDSAT/LC08/C01/T1\",\n",
    "    \"Landsat 9\": \"LANDSAT/LC09/CO2/T1_L2\",\n",
    "    \"Shuttle Reconnaissance and Topography Mission\": \"NASA/NASADEM_HGT/001\",\n",
    "    \"USGS NED (10m DEM)\": \"USGS/3DEP/10m\",\n",
    "}"
   ]
  },
  {
   "cell_type": "code",
   "execution_count": 35,
   "metadata": {},
   "outputs": [],
   "source": [
    "\n",
    "# Load Landsat 7 data, filter by date and bounds.\n",
    "LS7collection = ee.ImageCollection(\"LANDSAT/LE07/C01/T1\") \\\n",
    "  .filterDate('2018-01-01', today) \\\n",
    "  .filter(ee.Filter.calendarRange(6, 9, 'month'))\n",
    "\n",
    "# Also filter the LS7collection by the IMAGE_QUALITY property.\n",
    "LS7filtered = LS7collection \\\n",
    "  .filterMetadata('IMAGE_QUALITY', 'equals', 9)\n",
    "\n",
    "# Create two composites to check the effect of filtering by IMAGE_QUALITY.\n",
    "LS7goodComposite = ee.Algorithms \\\n",
    "  .Landsat.simpleComposite(LS7filtered, 75, 3)\n",
    "\n",
    "# Add PC band\n",
    "LS7Panchromatic = LS7goodComposite \\\n",
    "  .select(['B8'])\n",
    "\n",
    "Map.addLayer(LS7Panchromatic,\n",
    "             {'gain': 1.5},\n",
    "             'LS7Panchromatic',\n",
    "             False)\n",
    "\n",
    "# Add SRTM 30m (https://developers.google.com/earth-engine/datasets/catalog/NASA_NASADEM_HGT_001?hl=en)\n",
    "SRTM = ee.Image('NASA/NASADEM_HGT/001') \\\n",
    "  .select('elevation')"
   ]
  },
  {
   "cell_type": "code",
   "execution_count": 39,
   "metadata": {},
   "outputs": [],
   "source": [
    "# Load Landsat 8 data, filter by date and bounds.\n",
    "LS8collection = ee.ImageCollection(\"LANDSAT/LC08/C01/T1\") \\\n",
    "  .filterDate('2010-01-01', today) \\\n",
    "  .filter(ee.Filter.calendarRange(6, 9, 'month'))\n",
    "\n",
    "# Also filter the LS8collection by the IMAGE_QUALITY property.\n",
    "LS8filtered = LS8collection \\\n",
    "# filtering returns no collection? very weird\n",
    "#  .filterMetadata('IMAGE_QUALITY', 'greater_than', 3)\n",
    "\n",
    "# Create two composites to check the effect of filtering by IMAGE_QUALITY.\n",
    "LS8goodComposite = ee.Algorithms \\\n",
    "  .Landsat.simpleComposite(LS8filtered, 75, 3)\n",
    "\n",
    "# Add PC band\n",
    "LS8Panchromatic = LS8goodComposite \\\n",
    "  .select(['B8'])\n",
    "\n",
    "Map.addLayer(LS8Panchromatic,\n",
    "             {'gain': 1.5},\n",
    "             'LS8Panchromatic',\n",
    "             False)\n",
    "\n",
    "# Add SRTM 30m (https://developers.google.com/earth-engine/datasets/catalog/NASA_NASADEM_HGT_001?hl=en)\n",
    "SRTM = ee.Image('NASA/NASADEM_HGT/001') \\\n",
    "  .select('elevation')"
   ]
  },
  {
   "cell_type": "code",
   "execution_count": 19,
   "metadata": {},
   "outputs": [],
   "source": [
    "style = {'description_width': 'initial'}"
   ]
  },
  {
   "cell_type": "markdown",
   "metadata": {},
   "source": [
    "### Threshold ###\n",
    "The pixel is only considered for edge detection if the gradient magnitude is higher than this threshold."
   ]
  },
  {
   "cell_type": "code",
   "execution_count": 20,
   "metadata": {},
   "outputs": [],
   "source": [
    "#############Old Thresh Declaration###########\n",
    "\n",
    "# LSthresh = widgets.BoundedIntText(\n",
    "#   value=10,\n",
    "#   min=0,\n",
    "#   max=100,\n",
    "#   step=1,\n",
    "#   description='Landsat Threshold',\n",
    "#   disabled=False,\n",
    "#   style=style\n",
    "# )\n",
    "\n",
    "# DEMthresh = widgets.BoundedIntText(\n",
    "#   value=10,\n",
    "#   min=0,\n",
    "#   max=100,\n",
    "#   step=1,\n",
    "#   description='DEM Threshold',\n",
    "#   disabled=False,\n",
    "#   style=style\n",
    "# )\n",
    "\n",
    "# syncThresh = widgets.Checkbox(\n",
    "#   value=False,\n",
    "#   description='Sync Thresholds?',\n",
    "#   style=style\n",
    "# )\n",
    "\n",
    "# hbox1 = widgets.HBox([LSthresh, DEMthresh])\n",
    "# hbox1"
   ]
  },
  {
   "cell_type": "markdown",
   "metadata": {},
   "source": [
    "### Sigma ###\n",
    "Sigma value for a gaussian filter applied before edge detection. 0 means apply no filtering."
   ]
  },
  {
   "cell_type": "code",
   "execution_count": 21,
   "metadata": {},
   "outputs": [],
   "source": [
    "#############Old Sigma Declaration###########\n",
    "\n",
    "# LSsigma = widgets.BoundedFloatText(\n",
    "#   value=1.5,\n",
    "#   min=0,\n",
    "#   max=10,\n",
    "#   step=0.1,\n",
    "#   description='Landsat Sigma',\n",
    "#   disabled=False,\n",
    "#   style=style\n",
    "# )\n",
    "\n",
    "# DEMsigma = widgets.BoundedFloatText(\n",
    "#   value=1.5,\n",
    "#   min=0,\n",
    "#   max=10,\n",
    "#   step=0.1,\n",
    "#   description='DEM Sigma',\n",
    "#   disabled=False,\n",
    "#   style=style\n",
    "# )\n",
    "\n",
    "# syncSigma = widgets.Checkbox(\n",
    "#   value=False,\n",
    "#   description='Sync Sigmas?',\n",
    "#   style=style\n",
    "# )\n",
    "\n",
    "# hbox2 = widgets.HBox([LSsigma, DEMsigma])\n",
    "# hbox2"
   ]
  },
  {
   "cell_type": "code",
   "execution_count": 22,
   "metadata": {},
   "outputs": [],
   "source": [
    "#############Threshold and Sigma Inputs###########\n",
    "threshText = widgets.BoundedFloatText(\n",
    "  description='Threshold',\n",
    "  layout=widgets.Layout(width='auto', height='auto'),\n",
    "  min=0,\n",
    "  max=100,\n",
    "  step=0.5,\n",
    "  value=10)\n",
    "\n",
    "sigmaText = widgets.BoundedFloatText(\n",
    "  description='Sigma',\n",
    "  layout=widgets.Layout(width='auto', height='auto'),\n",
    "  min=0,\n",
    "  max=50,\n",
    "  step=0.1,\n",
    "  value=1.5)\n",
    "\n",
    "threshSlider = widgets.FloatSlider(\n",
    "  description='Threshold',\n",
    "  layout=widgets.Layout(width='auto', height='auto'),\n",
    "  readout_format='.1f',\n",
    "  min=0,\n",
    "  max=100,\n",
    "  step=0.5,\n",
    "  value=10)\n",
    "\n",
    "sigmaSlider = widgets.FloatSlider(\n",
    "  description='Sigma',\n",
    "  layout=widgets.Layout(width='auto', height='auto'),\n",
    "  readout_format='.1f',\n",
    "  min=0,\n",
    "  max=50,\n",
    "  step=0.1,\n",
    "  value=1.5)\n",
    "\n",
    "threshSigmaInput = widgets.TwoByTwoLayout(top_left=threshText, top_right=sigmaText, bottom_left=threshSlider, bottom_right=sigmaSlider, width=\"40%\")\n",
    "\n",
    "link_left = widgets.jslink((threshSigmaInput.top_left, 'value'), (threshSigmaInput.bottom_left, 'value'))\n",
    "link_right = widgets.jslink((threshSigmaInput.top_right, 'value'), (threshSigmaInput.bottom_right, 'value'))"
   ]
  },
  {
   "cell_type": "code",
   "execution_count": 23,
   "metadata": {},
   "outputs": [
    {
     "data": {
      "application/vnd.jupyter.widget-view+json": {
       "model_id": "b323701969df4a059f9146a709d4605d",
       "version_major": 2,
       "version_minor": 0
      },
      "text/plain": [
       "TwoByTwoLayout(children=(BoundedFloatText(value=10.0, description='Threshold', layout=Layout(grid_area='top-le…"
      ]
     },
     "metadata": {},
     "output_type": "display_data"
    }
   ],
   "source": [
    "threshSigmaInput"
   ]
  },
  {
   "cell_type": "code",
   "execution_count": null,
   "metadata": {},
   "outputs": [],
   "source": [
    "def single_edge_detect(image, LandsatThresh, LandsatSigma):\n",
    "\n",
    "    #############Edge Detection###########\n",
    "\n",
    "    # Detect edges in the panchromatic composite. Variables are (image, threshold, sigma)\n",
    "\n",
    "    cannyLS = ee.Algorithms \\\n",
    "      .CannyEdgeDetector(image, LandsatThresh, LandsatSigma)\n",
    "\n",
    "    # Mask the image with itself to get rid of areas with no edges.\n",
    "    cannyLS = cannyLS \\\n",
    "      .updateMask(cannyLS)\n",
    "\n",
    "    Map.addLayer(cannyLS, {'min': 0, 'max': 1, 'palette': '0620DB'}, 'CE Pan', False)\n",
    "\n",
    "    #############Hough Transformation###########\n",
    "\n",
    "    # Perform Hough transform of the Canny result and display.\n",
    "    houghLS = ee.Algorithms \\\n",
    "      .HoughTransform(cannyLS, 256, 64, 300, True)\n",
    "\n",
    "    Map.addLayer(houghLS, {'palette': '1293DB'}, 'Hough', True, 0.5)\n",
    "\n",
    "    #############Buffer###########\n",
    "    # Seems to just congest things. Not needed.\n",
    "\n",
    "    # bufferSize = 250\n",
    "    # houghLSbuffer = houghLS \\\n",
    "    #   .focal_max(bufferSize, 'square', 'meters')\n",
    "\n",
    "\n",
    "    # Map.addLayer(houghLSbuffer, {'palette': '1293DB'}, 'Hough LS w/Buffer', False, 0.5)"
   ]
  },
  {
   "cell_type": "code",
   "execution_count": 25,
   "metadata": {},
   "outputs": [],
   "source": [
    "def edge_detect(LandsatThresh, SRTMThresh, LandsatSigma, SRTMSigma):\n",
    "\n",
    "    #############Edge Detection###########\n",
    "\n",
    "    # Detect edges in the panchromatic composite. Variables are (image, threshold, sigma)\n",
    "\n",
    "    cannyLS = ee.Algorithms \\\n",
    "      .CannyEdgeDetector(LS7Panchromatic, LandsatThresh, LandsatSigma)\n",
    "    cannyDEM = ee.Algorithms \\\n",
    "      .CannyEdgeDetector(SRTM, SRTMThresh, SRTMSigma)\n",
    "\n",
    "    # Mask the image with itself to get rid of areas with no edges.\n",
    "    cannyLS = cannyLS \\\n",
    "      .updateMask(cannyLS)\n",
    "    cannyDEM = cannyDEM \\\n",
    "      .updateMask(cannyDEM)\n",
    "\n",
    "    Map.addLayer(cannyLS, {'min': 0, 'max': 1, 'palette': '0620DB'}, 'CE Pan LS', False)\n",
    "    Map.addLayer(cannyDEM, {'min': 0, 'max': 1, 'palette': '8F1713'}, 'CE DEM', False)\n",
    "\n",
    "    #############Hough Transformation###########\n",
    "\n",
    "    # Perform Hough transform of the Canny result and display.\n",
    "    houghLS = ee.Algorithms \\\n",
    "      .HoughTransform(cannyLS, 256, 64, 300, True)\n",
    "    houghDEM = ee.Algorithms \\\n",
    "      .HoughTransform(cannyDEM, 256, 64, 300, True)\n",
    "\n",
    "    Map.addLayer(houghLS, {'palette': '1293DB'}, 'Hough LS', True, 0.5)\n",
    "    Map.addLayer(houghDEM, {'palette': 'DB3832'}, 'Hough DEM', True, 0.5)\n",
    "    \n",
    "    #############Buffer###########\n",
    "    # Seems to just congest things. Not needed.\n",
    "\n",
    "    # bufferSize = 250\n",
    "    # houghLSbuffer = houghLS \\\n",
    "    #   .focal_max(bufferSize, 'square', 'meters')\n",
    "    # houghDEMbuffer = houghDEM \\\n",
    "    #   .focal_max(bufferSize, 'square', 'meters')\n",
    "\n",
    "    # Map.addLayer(houghLSbuffer, {'palette': '1293DB'}, 'Hough LS w/Buffer', False, 0.5)\n",
    "    # Map.addLayer(houghDEMbuffer, {'palette': 'DB3832'}, 'Hough DEM w/Buffer', False, 0.5)"
   ]
  },
  {
   "cell_type": "code",
   "execution_count": 24,
   "metadata": {},
   "outputs": [],
   "source": [
    "submit = widgets.Button(\n",
    "    description='Submit',\n",
    "    button_style='primary',\n",
    "    tooltip='Click the submit the request to create lineaments',\n",
    "    style=style\n",
    ")\n",
    "\n",
    "output = widgets.Output()"
   ]
  },
  {
   "cell_type": "code",
   "execution_count": 26,
   "metadata": {},
   "outputs": [],
   "source": [
    "def submit_clicked(b):\n",
    "\n",
    "    with output:\n",
    "        output.clear_output()\n",
    "        print('Computing...')\n",
    "        # file = open(\"../assets/806.gif\")\n",
    "        # imageLoading = file.read()\n",
    "        # widgets.Image(\n",
    "        #     value=imageLoading,\n",
    "        #     format='gif',\n",
    "        #     width=80,\n",
    "        #     height=80,\n",
    "        # )\n",
    "\n",
    "        # edge_detect(LandsatThresh=LSthresh.value, SRTMThresh=DEMthresh.value,\n",
    "        #             LandsatSigma=LSsigma.value, SRTMSigma=DEMsigma.value)\n",
    "        edge_detect(LandsatThresh=threshText.value, SRTMThresh=threshText.value,\n",
    "                    LandsatSigma=sigmaText.value, SRTMSigma=sigmaText.value)\n",
    "\n",
    "submit.on_click(submit_clicked)"
   ]
  },
  {
   "cell_type": "code",
   "execution_count": 27,
   "metadata": {},
   "outputs": [
    {
     "data": {
      "application/vnd.jupyter.widget-view+json": {
       "model_id": "42f32455520640f08669f4a7c234d226",
       "version_major": 2,
       "version_minor": 0
      },
      "text/plain": [
       "Button(button_style='primary', description='Submit', style=ButtonStyle(), tooltip='Click the submit the reques…"
      ]
     },
     "metadata": {},
     "output_type": "display_data"
    }
   ],
   "source": [
    "submit"
   ]
  },
  {
   "cell_type": "code",
   "execution_count": 28,
   "metadata": {},
   "outputs": [
    {
     "data": {
      "application/vnd.jupyter.widget-view+json": {
       "model_id": "bd1cdb887edb455d98ace9f27148d7ab",
       "version_major": 2,
       "version_minor": 0
      },
      "text/plain": [
       "Output()"
      ]
     },
     "metadata": {},
     "output_type": "display_data"
    }
   ],
   "source": [
    "output"
   ]
  },
  {
   "cell_type": "code",
   "execution_count": null,
   "metadata": {},
   "outputs": [],
   "source": []
  }
 ],
 "metadata": {
  "interpreter": {
   "hash": "aee8b7b246df8f9039afb4144a1f6fd8d2ca17a180786b69acc140d282b71a49"
  },
  "kernelspec": {
   "display_name": "Python 3 (ipykernel)",
   "language": "python",
   "name": "python3"
  },
  "language_info": {
   "codemirror_mode": {
    "name": "ipython",
    "version": 3
   },
   "file_extension": ".py",
   "mimetype": "text/x-python",
   "name": "python",
   "nbconvert_exporter": "python",
   "pygments_lexer": "ipython3",
   "version": "3.9.10"
  },
  "orig_nbformat": 4
 },
 "nbformat": 4,
 "nbformat_minor": 2
}
