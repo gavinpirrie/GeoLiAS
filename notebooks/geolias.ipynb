{
 "cells": [
  {
   "cell_type": "markdown",
   "metadata": {},
   "source": [
    "# GeoLiAs #\n",
    "\n",
    "Using [geemap](https://geemap.org/) to analyze lineaments generated from Landsat 7 and SRTM. Edges (lineaments) were detected using [Canny Edge Detector](https://developers.google.com/earth-engine/apidocs/ee-algorithms-cannyedgedetector?hl=en) and further analyzed through [Hough Transform](https://developers.google.com/earth-engine/apidocs/ee-algorithms-houghtransform?hl=en).\n",
    "\n",
    "Layer tab in top right can turn on/off layers as well as change opacity.\n",
    "\n",
    "To start, just click submit in the bottom to get produce some lineaments.\n",
    "\n",
    "Change the thresholds and sigma and click submit to change the visualization.\n",
    "\n",
    "Data Sources -\n",
    "* [SRTM](https://developers.google.com/earth-engine/datasets/catalog/NASA_NASADEM_HGT_001?hl=en) DEM (blue)\n",
    "* [Landsat 7](https://developers.google.com/earth-engine/datasets/catalog/LANDSAT_LE07_C01_T1?hl=en) (red)"
   ]
  },
  {
   "cell_type": "code",
   "execution_count": 1,
   "metadata": {},
   "outputs": [
    {
     "ename": "ModuleNotFoundError",
     "evalue": "No module named 'ee'",
     "output_type": "error",
     "traceback": [
      "\u001b[0;31m---------------------------------------------------------------------------\u001b[0m",
      "\u001b[0;31mModuleNotFoundError\u001b[0m                       Traceback (most recent call last)",
      "\u001b[1;32m/Users/gavinpirrie/Library/CloudStorage/OneDrive-UniversityofVermont/Mongolia/Thesis/data/python/Lineaments/mongo-lin-gee/notebooks/geolias.ipynb Cell 2'\u001b[0m in \u001b[0;36m<module>\u001b[0;34m\u001b[0m\n\u001b[1;32m      <a href='vscode-notebook-cell:/Users/gavinpirrie/Library/CloudStorage/OneDrive-UniversityofVermont/Mongolia/Thesis/data/python/Lineaments/mongo-lin-gee/notebooks/geolias.ipynb#ch0000001?line=0'>1</a>\u001b[0m \u001b[39m# Import earth engine and geemap\u001b[39;00m\n\u001b[0;32m----> <a href='vscode-notebook-cell:/Users/gavinpirrie/Library/CloudStorage/OneDrive-UniversityofVermont/Mongolia/Thesis/data/python/Lineaments/mongo-lin-gee/notebooks/geolias.ipynb#ch0000001?line=2'>3</a>\u001b[0m \u001b[39mimport\u001b[39;00m \u001b[39mee\u001b[39;00m\n\u001b[1;32m      <a href='vscode-notebook-cell:/Users/gavinpirrie/Library/CloudStorage/OneDrive-UniversityofVermont/Mongolia/Thesis/data/python/Lineaments/mongo-lin-gee/notebooks/geolias.ipynb#ch0000001?line=3'>4</a>\u001b[0m \u001b[39mimport\u001b[39;00m \u001b[39mgeemap\u001b[39;00m\n\u001b[1;32m      <a href='vscode-notebook-cell:/Users/gavinpirrie/Library/CloudStorage/OneDrive-UniversityofVermont/Mongolia/Thesis/data/python/Lineaments/mongo-lin-gee/notebooks/geolias.ipynb#ch0000001?line=4'>5</a>\u001b[0m \u001b[39mimport\u001b[39;00m \u001b[39mipywidgets\u001b[39;00m \u001b[39mas\u001b[39;00m \u001b[39mwidgets\u001b[39;00m\n",
      "\u001b[0;31mModuleNotFoundError\u001b[0m: No module named 'ee'"
     ]
    }
   ],
   "source": [
    "# Import earth engine and geemap\n",
    "\n",
    "import ee\n",
    "import geemap\n",
    "import ipywidgets as widgets\n",
    "geemap.ee_initialize()\n",
    "\n",
    "Map = geemap.Map()\n",
    "\n",
    "# Load Landsat 7 data, filter by date and bounds.\n",
    "LS7collection = ee.ImageCollection(\"LANDSAT/LE07/C01/T1\") \\\n",
    "  .filterDate('2018-01-01', '2021-08-18') \\\n",
    "  .filter(ee.Filter.calendarRange(6, 9, 'month'))\n",
    "\n",
    "# Also filter the LS7collection by the IMAGE_QUALITY property.\n",
    "LS7filtered = LS7collection \\\n",
    "  .filterMetadata('IMAGE_QUALITY', 'equals', 9)\n",
    "\n",
    "# Create two composites to check the effect of filtering by IMAGE_QUALITY.\n",
    "LS7goodComposite = ee.Algorithms \\\n",
    "  .Landsat.simpleComposite(LS7filtered, 75, 3)\n",
    "\n",
    "# Add PC band\n",
    "LS7Panchromatic = LS7goodComposite \\\n",
    "  .select(['B8'])\n",
    "\n",
    "Map.addLayer(LS7Panchromatic,\n",
    "             {'gain': 1.5},\n",
    "             'LS7Panchromatic',\n",
    "             False)\n",
    "\n",
    "# Add SRTM 30m (https://developers.google.com/earth-engine/datasets/catalog/NASA_NASADEM_HGT_001?hl=en)\n",
    "SRTM = ee.Image('NASA/NASADEM_HGT/001') \\\n",
    "  .select('elevation')\n",
    "\n",
    "Map"
   ]
  },
  {
   "cell_type": "markdown",
   "metadata": {},
   "source": [
    "### Threshold ###\n",
    "The pixel is only considered for edge detection if the gradient magnitude is higher than this threshold."
   ]
  },
  {
   "cell_type": "code",
   "execution_count": null,
   "metadata": {},
   "outputs": [],
   "source": [
    "style = {'description_width': 'initial'}"
   ]
  },
  {
   "cell_type": "code",
   "execution_count": null,
   "metadata": {},
   "outputs": [],
   "source": [
    "#############Old Thresh Declaration###########\n",
    "\n",
    "# LSthresh = widgets.BoundedIntText(\n",
    "#   value=10,\n",
    "#   min=0,\n",
    "#   max=100,\n",
    "#   step=1,\n",
    "#   description='Landsat Threshold',\n",
    "#   disabled=False,\n",
    "#   style=style\n",
    "# )\n",
    "\n",
    "# DEMthresh = widgets.BoundedIntText(\n",
    "#   value=10,\n",
    "#   min=0,\n",
    "#   max=100,\n",
    "#   step=1,\n",
    "#   description='DEM Threshold',\n",
    "#   disabled=False,\n",
    "#   style=style\n",
    "# )\n",
    "\n",
    "# syncThresh = widgets.Checkbox(\n",
    "#   value=False,\n",
    "#   description='Sync Thresholds?',\n",
    "#   style=style\n",
    "# )\n",
    "\n",
    "# hbox1 = widgets.HBox([LSthresh, DEMthresh])\n",
    "# hbox1"
   ]
  },
  {
   "cell_type": "markdown",
   "metadata": {},
   "source": [
    "### Sigma ###\n",
    "Sigma value for a gaussian filter applied before edge detection. 0 means apply no filtering."
   ]
  },
  {
   "cell_type": "code",
   "execution_count": null,
   "metadata": {},
   "outputs": [],
   "source": [
    "#############Old Sigma Declaration###########\n",
    "\n",
    "# LSsigma = widgets.BoundedFloatText(\n",
    "#   value=1.5,\n",
    "#   min=0,\n",
    "#   max=10,\n",
    "#   step=0.1,\n",
    "#   description='Landsat Sigma',\n",
    "#   disabled=False,\n",
    "#   style=style\n",
    "# )\n",
    "\n",
    "# DEMsigma = widgets.BoundedFloatText(\n",
    "#   value=1.5,\n",
    "#   min=0,\n",
    "#   max=10,\n",
    "#   step=0.1,\n",
    "#   description='DEM Sigma',\n",
    "#   disabled=False,\n",
    "#   style=style\n",
    "# )\n",
    "\n",
    "# syncSigma = widgets.Checkbox(\n",
    "#   value=False,\n",
    "#   description='Sync Sigmas?',\n",
    "#   style=style\n",
    "# )\n",
    "\n",
    "# hbox2 = widgets.HBox([LSsigma, DEMsigma])\n",
    "# hbox2"
   ]
  },
  {
   "cell_type": "code",
   "execution_count": null,
   "metadata": {},
   "outputs": [],
   "source": [
    "\n",
    "threshText = widgets.BoundedFloatText(\n",
    "  description='Threshold',\n",
    "  layout=widgets.Layout(width='auto', height='auto'),\n",
    "  min=0,\n",
    "  max=100,\n",
    "  step=0.5,\n",
    "  value=10)\n",
    "\n",
    "sigmaText = widgets.BoundedFloatText(\n",
    "  description='Sigma',\n",
    "  layout=widgets.Layout(width='auto', height='auto'),\n",
    "  min=0,\n",
    "  max=50,\n",
    "  step=0.1,\n",
    "  value=1.5)\n",
    "\n",
    "threshSlider = widgets.FloatSlider(\n",
    "  description='Threshold',\n",
    "  layout=widgets.Layout(width='auto', height='auto'),\n",
    "  readout_format='.1f',\n",
    "  min=0,\n",
    "  max=100,\n",
    "  step=0.5,\n",
    "  value=10)\n",
    "\n",
    "sigmaSlider = widgets.FloatSlider(\n",
    "  description='Sigma',\n",
    "  layout=widgets.Layout(width='auto', height='auto'),\n",
    "  readout_format='.1f',\n",
    "  min=0,\n",
    "  max=50,\n",
    "  step=0.1,\n",
    "  value=1.5)\n",
    "\n",
    "threshSigmaInput = widgets.TwoByTwoLayout(top_left=threshText, top_right=sigmaText, bottom_left=threshSlider, bottom_right=sigmaSlider)\n",
    "\n",
    "link_left = widgets.jslink((threshSigmaInput.top_left, 'value'), (threshSigmaInput.bottom_left, 'value'))\n",
    "link_right = widgets.jslink((threshSigmaInput.top_right, 'value'), (threshSigmaInput.bottom_right, 'value'))\n",
    "\n",
    "# Don't think this is necessary as it is defined earlier in original widgets\n",
    "# threshSigmaInput.bottom_right.value = 1.5\n",
    "# threshSigmaInput.top_left.value = 1.5"
   ]
  },
  {
   "cell_type": "code",
   "execution_count": null,
   "metadata": {},
   "outputs": [],
   "source": [
    "threshSigmaInput"
   ]
  },
  {
   "cell_type": "code",
   "execution_count": null,
   "metadata": {},
   "outputs": [],
   "source": [
    "submit = widgets.Button(\n",
    "    description='Submit',\n",
    "    button_style='primary',\n",
    "    tooltip='Click the submit the request to create lineaments',\n",
    "    style=style\n",
    ")\n",
    "\n",
    "output = widgets.Output()"
   ]
  },
  {
   "cell_type": "code",
   "execution_count": null,
   "metadata": {},
   "outputs": [],
   "source": [
    "def edge_detect(LandsatThresh, SRTMThresh, LandsatSigma, SRTMSigma):\n",
    "\n",
    "    #############Edge Detection###########\n",
    "\n",
    "    # Detect edges in the panchromatic composite. Variables are (image, threshold, sigma)\n",
    "\n",
    "    cannyLS = ee.Algorithms \\\n",
    "      .CannyEdgeDetector(LS7Panchromatic, LandsatThresh, LandsatSigma)\n",
    "    cannyDEM = ee.Algorithms \\\n",
    "      .CannyEdgeDetector(SRTM, SRTMThresh, SRTMSigma)\n",
    "\n",
    "\n",
    "    # Mask the image with itself to get rid of areas with no edges.\n",
    "    cannyLS = cannyLS \\\n",
    "      .updateMask(cannyLS)\n",
    "    cannyDEM = cannyDEM \\\n",
    "      .updateMask(cannyDEM)\n",
    "\n",
    "    Map.addLayer(cannyLS, {'min': 0, 'max': 1, 'palette': '0620DB'}, 'CE Pan LS', False)\n",
    "    Map.addLayer(cannyDEM, {'min': 0, 'max': 1, 'palette': '8F1713'}, 'CE DEM', False)\n",
    "\n",
    "    #############Hough Transformation###########\n",
    "\n",
    "    # Perform Hough transform of the Canny result and display.\n",
    "    houghLS = ee.Algorithms \\\n",
    "      .HoughTransform(cannyLS, 256, 64, 300, True)\n",
    "    houghDEM = ee.Algorithms \\\n",
    "      .HoughTransform(cannyDEM, 256, 64, 300, True)\n",
    "\n",
    "    Map.addLayer(houghLS, {'palette': '1293DB'}, 'Hough LS', True, 0.5)\n",
    "    Map.addLayer(houghDEM, {'palette': 'DB3832'}, 'Hough DEM', True, 0.5)\n",
    "    #############Buffer###########\n",
    "    # Seems to just congest things. Not needed.\n",
    "\n",
    "    # bufferSize = 250\n",
    "    # houghLSbuffer = houghLS \\\n",
    "    #   .focal_max(bufferSize, 'square', 'meters')\n",
    "    # houghDEMbuffer = houghDEM \\\n",
    "    #   .focal_max(bufferSize, 'square', 'meters')\n",
    "\n",
    "    # Map.addLayer(houghLSbuffer, {'palette': '1293DB'}, 'Hough LS w/Buffer', False, 0.5)\n",
    "    # Map.addLayer(houghDEMbuffer, {'palette': 'DB3832'}, 'Hough DEM w/Buffer', False, 0.5)"
   ]
  },
  {
   "cell_type": "code",
   "execution_count": null,
   "metadata": {},
   "outputs": [],
   "source": [
    "def submit_clicked(b):\n",
    "\n",
    "    with output:\n",
    "        output.clear_output()\n",
    "        print('Computing...')\n",
    "        # file = open(\"../assets/806.gif\")\n",
    "        # imageLoading = file.read()\n",
    "        # widgets.Image(\n",
    "        #     value=imageLoading,\n",
    "        #     format='gif',\n",
    "        #     width=80,\n",
    "        #     height=80,\n",
    "        # )\n",
    "\n",
    "        # edge_detect(LandsatThresh=LSthresh.value, SRTMThresh=DEMthresh.value,\n",
    "        #             LandsatSigma=LSsigma.value, SRTMSigma=DEMsigma.value)\n",
    "        edge_detect(LandsatThresh=threshText.value, SRTMThresh=threshText.value,\n",
    "                    LandsatSigma=sigmaText.value, SRTMSigma=sigmaText.value)\n",
    "\n",
    "submit.on_click(submit_clicked)"
   ]
  },
  {
   "cell_type": "code",
   "execution_count": null,
   "metadata": {},
   "outputs": [],
   "source": [
    "submit"
   ]
  },
  {
   "cell_type": "code",
   "execution_count": null,
   "metadata": {},
   "outputs": [],
   "source": [
    "output"
   ]
  },
  {
   "cell_type": "code",
   "execution_count": null,
   "metadata": {},
   "outputs": [],
   "source": []
  }
 ],
 "metadata": {
  "interpreter": {
   "hash": "aee8b7b246df8f9039afb4144a1f6fd8d2ca17a180786b69acc140d282b71a49"
  },
  "kernelspec": {
   "display_name": "Python 3 (ipykernel)",
   "language": "python",
   "name": "python3"
  },
  "language_info": {
   "codemirror_mode": {
    "name": "ipython",
    "version": 3
   },
   "file_extension": ".py",
   "mimetype": "text/x-python",
   "name": "python",
   "nbconvert_exporter": "python",
   "pygments_lexer": "ipython3",
   "version": "3.9.0"
  },
  "orig_nbformat": 4
 },
 "nbformat": 4,
 "nbformat_minor": 2
}
