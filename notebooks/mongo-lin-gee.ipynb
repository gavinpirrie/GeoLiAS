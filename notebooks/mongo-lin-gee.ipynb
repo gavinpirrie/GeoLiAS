{
 "cells": [
  {
   "cell_type": "markdown",
   "source": [
    "# Mongolia Lineaments #\n",
    "\n",
    "Using [geemap](https://geemap.org/) to analyze lineaments generated from Landsat 7 and SRTM in Mongolia. Edges were detected by using [Canny Edge Detector](https://developers.google.com/earth-engine/apidocs/ee-algorithms-cannyedgedetector?hl=en) and further analyzed through [Hough Transform](https://developers.google.com/earth-engine/apidocs/ee-algorithms-houghtransform?hl=en).\n",
    "\n",
    "Layer tab in top right can turn on/off layers as well as change opacity.\n",
    "\n",
    "Data Sources -\n",
    "* [SRTM](https://developers.google.com/earth-engine/datasets/catalog/NASA_NASADEM_HGT_001?hl=en) (green)\n",
    "* [Landsat 7](https://developers.google.com/earth-engine/datasets/catalog/LANDSAT_LE07_C01_T1?hl=en) (red)"
   ],
   "metadata": {}
  },
  {
   "cell_type": "code",
   "execution_count": 21,
   "source": [
    "# Import earth engine and geemap\n",
    "\n",
    "import ee\n",
    "import geemap\n",
    "geemap.ee_initialize()\n",
    "\n",
    "#############Import Shapefiles###########\n",
    "mongoShape = ee.FeatureCollection(\"users/pirrie/MongoliaAssets/MongoliaOutline\")\n",
    "potSuture = ee.FeatureCollection(\"users/pirrie/MongoliaAssets/PotentialSuture\")\n",
    "mongoGeom = mongoShape.geometry()\n",
    "\n",
    "Map = geemap.Map(center=[46.935,103.376], zoom=5)\n",
    "\n",
    "# Add Mongolia Shape, Suture\n",
    "Map.addLayer(mongoShape, {'color': '000000'}, 'Mongolia', True, 0.3)\n",
    "Map.addLayer(potSuture, {'color': 'FFFF00'}, 'Suture (Zorin)', True, 0.5)\n",
    "\n",
    "# Load Landsat 7 data, filter by date and bounds.\n",
    "collection = ee.ImageCollection(\"LANDSAT/LE07/C01/T1\") \\\n",
    "  .filterDate('2019-01-01', '2021-08-18') \\\n",
    "  .filter(ee.Filter.calendarRange(6, 9, 'month'))\n",
    "\n",
    "# Also filter the collection by the IMAGE_QUALITY property.\n",
    "filtered = collection \\\n",
    "  .filterMetadata('IMAGE_QUALITY', 'equals', 9)\n",
    "\n",
    "# Create two composites to check the effect of filtering by IMAGE_QUALITY.\n",
    "goodComposite = ee.Algorithms.Landsat.simpleComposite(filtered, 75, 3)\n",
    "\n",
    "# Add PC band\n",
    "Panchromatic = goodComposite.select(['B8']) # \\\n",
    "  # .clip(mongoShape) \\\n",
    "  # .select(['B8'])\n",
    "\n",
    "Map.addLayer(Panchromatic,\n",
    "             {'gain': 1.5},\n",
    "             'Panchromatic',\n",
    "             False)\n",
    "\n",
    "# Add SRTM 30m (https://developers.google.com/earth-engine/datasets/catalog/NASA_NASADEM_HGT_001?hl=en)\n",
    "DEM = ee.Image('NASA/NASADEM_HGT/001').select('elevation')\n",
    "\n",
    "\n",
    "#############Edge Detection###########\n",
    "\n",
    "# Detect edges in the panchromatic composite. Variables are (image, threshold, sigma)\n",
    "cannyLS = ee.Algorithms.CannyEdgeDetector(Panchromatic, 10, 1.5)\n",
    "cannyDEM = ee.Algorithms.CannyEdgeDetector(DEM, 10, 1.5)\n",
    "\n",
    "\n",
    "# Mask the image with itself to get rid of areas with no edges.\n",
    "cannyLS = cannyLS \\\n",
    "  .updateMask(cannyLS)\n",
    "cannyDEM = cannyDEM \\\n",
    "  .updateMask(cannyDEM)\n",
    "\n",
    "Map.addLayer(cannyLS, {'min': 0, 'max': 1, 'palette': '0620DB'}, 'CE Pan LS', False)\n",
    "Map.addLayer(cannyDEM, {'min': 0, 'max': 1, 'palette': '8F1713'}, 'CE DEM', False)\n",
    "\n",
    "\n",
    "#############Hough Transformation###########\n",
    "\n",
    "# Perform Hough transform of the Canny result and display.\n",
    "houghLS = ee.Algorithms.HoughTransform(cannyLS, 256, 64, 300, True)\n",
    "houghDEM = ee.Algorithms.HoughTransform(cannyDEM, 256, 64, 300, True)\n",
    "\n",
    "Map.addLayer(houghLS, {'palette': '1293DB'}, 'Hough LS', False, 0.5)\n",
    "Map.addLayer(houghDEM, {'palette': 'DB3832'}, 'Hough DEM', False, 0.5)\n",
    "\n",
    "bufferSize = 250\n",
    "houghLSbuffer = houghLS.focal_max(bufferSize, 'square', 'meters')\n",
    "houghDEMbuffer = houghDEM.focal_max(bufferSize, 'square', 'meters')\n",
    "\n",
    "Map.addLayer(houghLSbuffer, {'palette': '1293DB'}, 'Hough LS w/Buffer', True, 0.5)\n",
    "Map.addLayer(houghDEMbuffer, {'palette': 'DB3832'}, 'Hough DEM w/Buffer', True, 0.5)\n",
    "\n",
    "Map"
   ],
   "outputs": [
    {
     "output_type": "display_data",
     "data": {
      "text/plain": [
       "Map(center=[46.935, 103.376], controls=(WidgetControl(options=['position', 'transparent_bg'], widget=HBox(chil…"
      ],
      "application/vnd.jupyter.widget-view+json": {
       "version_major": 2,
       "version_minor": 0,
       "model_id": "1a69c9263f004048aaa6ccf8ea6872bf"
      }
     },
     "metadata": {}
    }
   ],
   "metadata": {}
  },
  {
   "cell_type": "markdown",
   "source": [
    "Red line is proposed suture after Zorin (1999)"
   ],
   "metadata": {}
  }
 ],
 "metadata": {
  "orig_nbformat": 4,
  "language_info": {
   "name": "python",
   "version": "3.9.0",
   "mimetype": "text/x-python",
   "codemirror_mode": {
    "name": "ipython",
    "version": 3
   },
   "pygments_lexer": "ipython3",
   "nbconvert_exporter": "python",
   "file_extension": ".py"
  },
  "kernelspec": {
   "name": "python3",
   "display_name": "Python 3.9.0 64-bit"
  },
  "interpreter": {
   "hash": "aee8b7b246df8f9039afb4144a1f6fd8d2ca17a180786b69acc140d282b71a49"
  }
 },
 "nbformat": 4,
 "nbformat_minor": 2
}