{
 "cells": [
  {
   "cell_type": "markdown",
   "metadata": {},
   "source": [
    "# Mongolia Lineaments #\n",
    "\n",
    "Using [geemap](https://geemap.org/) to analyze lineaments generated from Landsat 7 and SRTM in Mongolia (and beyond). Edges (lineaments) were detected using [Canny Edge Detector](https://developers.google.com/earth-engine/apidocs/ee-algorithms-cannyedgedetector?hl=en) and further analyzed through [Hough Transform](https://developers.google.com/earth-engine/apidocs/ee-algorithms-houghtransform?hl=en).\n",
    "\n",
    "Layer tab in top right can turn on/off layers as well as change opacity.\n",
    "\n",
    "To start, just click submit in the bottom to get produce some lineaments.\n",
    "\n",
    "Change the thresholds and sigma and click submit to change the visualization.\n",
    "\n",
    "Data Sources -\n",
    "* [SRTM](https://developers.google.com/earth-engine/datasets/catalog/NASA_NASADEM_HGT_001?hl=en) (blue)\n",
    "* [Landsat 7](https://developers.google.com/earth-engine/datasets/catalog/LANDSAT_LE07_C01_T1?hl=en) (red)"
   ]
  },
  {
   "cell_type": "code",
   "execution_count": 1,
   "metadata": {},
   "outputs": [
    {
     "data": {
      "application/vnd.jupyter.widget-view+json": {
       "model_id": "8ddaff21836f4fc4bf1568b9c4cdc8e2",
       "version_major": 2,
       "version_minor": 0
      },
      "text/plain": [
       "Map(center=[46.966026359517194, 103.13830720118435], controls=(WidgetControl(options=['position', 'transparent…"
      ]
     },
     "metadata": {},
     "output_type": "display_data"
    }
   ],
   "source": [
    "# Import earth engine and geemap\n",
    "\n",
    "import ee\n",
    "import geemap\n",
    "import ipywidgets as widgets\n",
    "geemap.ee_initialize()\n",
    "\n",
    "#############Import Shapefiles###########\n",
    "mongoShape = ee.FeatureCollection(\"users/pirrie/MongoliaAssets/MongoliaOutline\")\n",
    "potSuture = ee.FeatureCollection(\"users/pirrie/MongoliaAssets/PotentialSuture\")\n",
    "mongoGeom = mongoShape.geometry()\n",
    "\n",
    "Map = geemap.Map()\n",
    "Map.centerObject(mongoShape, 5)\n",
    "\n",
    "# Add Mongolia Shape, Suture\n",
    "Map.addLayer(mongoShape, {'color': '000000'}, 'Mongolia', True, 0.3)\n",
    "Map.addLayer(potSuture, {'color': 'FFFF00'}, 'Suture (Zorin)', True, 0.3)\n",
    "\n",
    "# Load Landsat 7 data, filter by date and bounds.\n",
    "collection = ee.ImageCollection(\"LANDSAT/LE07/C01/T1\") \\\n",
    "  .filterDate('2019-01-01', '2021-08-18') \\\n",
    "  .filter(ee.Filter.calendarRange(6, 9, 'month'))\n",
    "\n",
    "# Also filter the collection by the IMAGE_QUALITY property.\n",
    "filtered = collection \\\n",
    "  .filterMetadata('IMAGE_QUALITY', 'equals', 9)\n",
    "\n",
    "# Create two composites to check the effect of filtering by IMAGE_QUALITY.\n",
    "goodComposite = ee.Algorithms \\\n",
    "  .Landsat.simpleComposite(filtered, 75, 3)\n",
    "\n",
    "# Add PC band\n",
    "Panchromatic = goodComposite \\\n",
    "  .select(['B8']) # \\\n",
    "  # .clip(mongoShape) \\\n",
    "  # .select(['B8'])\n",
    "\n",
    "Map.addLayer(Panchromatic,\n",
    "             {'gain': 1.5},\n",
    "             'Panchromatic',\n",
    "             False)\n",
    "\n",
    "# Add SRTM 30m (https://developers.google.com/earth-engine/datasets/catalog/NASA_NASADEM_HGT_001?hl=en)\n",
    "DEM = ee.Image('NASA/NASADEM_HGT/001') \\\n",
    "  .select('elevation')\n",
    "\n",
    "Map"
   ]
  },
  {
   "cell_type": "markdown",
   "metadata": {},
   "source": [
    ">*Yellow line is proposed suture after Zorin (1999)*"
   ]
  },
  {
   "cell_type": "markdown",
   "metadata": {},
   "source": [
    "### Threshold ###\n",
    "The pixel is only considered for edge detection if the gradient magnitude is higher than this threshold."
   ]
  },
  {
   "cell_type": "code",
   "execution_count": 2,
   "metadata": {},
   "outputs": [],
   "source": [
    "style = {'description_width': 'initial'}"
   ]
  },
  {
   "cell_type": "code",
   "execution_count": 3,
   "metadata": {},
   "outputs": [
    {
     "data": {
      "application/vnd.jupyter.widget-view+json": {
       "model_id": "486dce1e66c34a77aa7c082b84a98fdf",
       "version_major": 2,
       "version_minor": 0
      },
      "text/plain": [
       "HBox(children=(BoundedIntText(value=10, description='Landsat Threshold', style=DescriptionStyle(description_wi…"
      ]
     },
     "metadata": {},
     "output_type": "display_data"
    }
   ],
   "source": [
    "LSthresh = widgets.BoundedIntText(\n",
    "  value=10,\n",
    "  min=0,\n",
    "  max=100,\n",
    "  step=1,\n",
    "  description='Landsat Threshold',\n",
    "  disabled=False,\n",
    "  style=style\n",
    ")\n",
    "\n",
    "DEMthresh = widgets.BoundedIntText(\n",
    "  value=10,\n",
    "  min=0,\n",
    "  max=100,\n",
    "  step=1,\n",
    "  description='DEM Threshold',\n",
    "  disabled=False,\n",
    "  style=style\n",
    ")\n",
    "\n",
    "syncThresh = widgets.Checkbox(\n",
    "  value=False,\n",
    "  description='Sync Thresholds?',\n",
    "  style=style\n",
    ")\n",
    "\n",
    "hbox1 = widgets.HBox([LSthresh, DEMthresh])\n",
    "hbox1"
   ]
  },
  {
   "cell_type": "markdown",
   "metadata": {},
   "source": [
    "### Sigma ###\n",
    "Sigma value for a gaussian filter applied before edge detection. 0 means apply no filtering."
   ]
  },
  {
   "cell_type": "code",
   "execution_count": 4,
   "metadata": {},
   "outputs": [
    {
     "data": {
      "application/vnd.jupyter.widget-view+json": {
       "model_id": "bfd3a26a07fc489cbc309d25446def1e",
       "version_major": 2,
       "version_minor": 0
      },
      "text/plain": [
       "HBox(children=(BoundedFloatText(value=1.5, description='Landsat Sigma', max=10.0, step=0.1, style=DescriptionS…"
      ]
     },
     "metadata": {},
     "output_type": "display_data"
    }
   ],
   "source": [
    "LSsigma = widgets.BoundedFloatText(\n",
    "  value=1.5,\n",
    "  min=0,\n",
    "  max=10,\n",
    "  step=0.1,\n",
    "  description='Landsat Sigma',\n",
    "  disabled=False,\n",
    "  style=style\n",
    ")\n",
    "\n",
    "DEMsigma = widgets.BoundedFloatText(\n",
    "  value=1.5,\n",
    "  min=0,\n",
    "  max=10,\n",
    "  step=0.1,\n",
    "  description='DEM Sigma',\n",
    "  disabled=False,\n",
    "  style=style\n",
    ")\n",
    "\n",
    "syncSigma = widgets.Checkbox(\n",
    "  value=False,\n",
    "  description='Sync Sigmas?',\n",
    "  style=style\n",
    ")\n",
    "\n",
    "hbox2 = widgets.HBox([LSsigma, DEMsigma])\n",
    "hbox2"
   ]
  },
  {
   "cell_type": "code",
   "execution_count": 5,
   "metadata": {},
   "outputs": [],
   "source": [
    "submit = widgets.Button(\n",
    "    description='Submit',\n",
    "    button_style='primary',\n",
    "    tooltip='Click the submit the request to create lineaments',\n",
    "    style=style\n",
    ")\n",
    "\n",
    "output = widgets.Output()"
   ]
  },
  {
   "cell_type": "code",
   "execution_count": 6,
   "metadata": {},
   "outputs": [],
   "source": [
    "def edge_detect(LandsatThresh, SRTMThresh, LandsatSigma, SRTMSigma):\n",
    "\n",
    "    #############Edge Detection###########\n",
    "\n",
    "    # Detect edges in the panchromatic composite. Variables are (image, threshold, sigma)\n",
    "\n",
    "    cannyLS = ee.Algorithms \\\n",
    "      .CannyEdgeDetector(Panchromatic, LandsatThresh, LandsatSigma)\n",
    "    cannyDEM = ee.Algorithms \\\n",
    "      .CannyEdgeDetector(DEM, SRTMThresh, SRTMSigma)\n",
    "\n",
    "\n",
    "    # Mask the image with itself to get rid of areas with no edges.\n",
    "    cannyLS = cannyLS \\\n",
    "      .updateMask(cannyLS)\n",
    "    cannyDEM = cannyDEM \\\n",
    "      .updateMask(cannyDEM)\n",
    "\n",
    "    Map.addLayer(cannyLS, {'min': 0, 'max': 1, 'palette': '0620DB'}, 'CE Pan LS', False)\n",
    "    Map.addLayer(cannyDEM, {'min': 0, 'max': 1, 'palette': '8F1713'}, 'CE DEM', False)\n",
    "\n",
    "    #############Hough Transformation###########\n",
    "\n",
    "    # Perform Hough transform of the Canny result and display.\n",
    "    houghLS = ee.Algorithms \\\n",
    "      .HoughTransform(cannyLS, 256, 64, 300, True)\n",
    "    houghDEM = ee.Algorithms \\\n",
    "      .HoughTransform(cannyDEM, 256, 64, 300, True)\n",
    "\n",
    "    Map.addLayer(houghLS, {'palette': '1293DB'}, 'Hough LS', True, 0.5)\n",
    "    Map.addLayer(houghDEM, {'palette': 'DB3832'}, 'Hough DEM', True, 0.5)\n",
    "\n",
    "    bufferSize = 250\n",
    "    houghLSbuffer = houghLS \\\n",
    "      .focal_max(bufferSize, 'square', 'meters')\n",
    "    houghDEMbuffer = houghDEM \\\n",
    "      .focal_max(bufferSize, 'square', 'meters')\n",
    "\n",
    "    Map.addLayer(houghLSbuffer, {'palette': '1293DB'}, 'Hough LS w/Buffer', False, 0.5)\n",
    "    Map.addLayer(houghDEMbuffer, {'palette': 'DB3832'}, 'Hough DEM w/Buffer', False, 0.5)"
   ]
  },
  {
   "cell_type": "code",
   "execution_count": 7,
   "metadata": {},
   "outputs": [],
   "source": [
    "def submit_clicked(b):\n",
    "\n",
    "    with output:\n",
    "        output.clear_output()\n",
    "        print('Computing...')\n",
    "\n",
    "        edge_detect(LandsatThresh=LSthresh.value, SRTMThresh=DEMthresh.value,\n",
    "                    LandsatSigma=LSsigma.value, SRTMSigma=DEMsigma.value)\n",
    "\n",
    "submit.on_click(submit_clicked)"
   ]
  },
  {
   "cell_type": "code",
   "execution_count": 8,
   "metadata": {},
   "outputs": [
    {
     "data": {
      "application/vnd.jupyter.widget-view+json": {
       "model_id": "d2f65bd3c1294f0fbe416e9a7f8ee115",
       "version_major": 2,
       "version_minor": 0
      },
      "text/plain": [
       "Button(button_style='primary', description='Submit', style=ButtonStyle(), tooltip='Click the submit the reques…"
      ]
     },
     "metadata": {},
     "output_type": "display_data"
    }
   ],
   "source": [
    "submit"
   ]
  },
  {
   "cell_type": "code",
   "execution_count": 9,
   "metadata": {},
   "outputs": [
    {
     "data": {
      "application/vnd.jupyter.widget-view+json": {
       "model_id": "7017b51752c840ee9ea9df052baa14bb",
       "version_major": 2,
       "version_minor": 0
      },
      "text/plain": [
       "Output()"
      ]
     },
     "metadata": {},
     "output_type": "display_data"
    }
   ],
   "source": [
    "output"
   ]
  },
  {
   "cell_type": "markdown",
   "metadata": {},
   "source": []
  }
 ],
 "metadata": {
  "interpreter": {
   "hash": "aee8b7b246df8f9039afb4144a1f6fd8d2ca17a180786b69acc140d282b71a49"
  },
  "kernelspec": {
   "display_name": "Python 3.9.0 64-bit",
   "name": "python3"
  },
  "language_info": {
   "codemirror_mode": {
    "name": "ipython",
    "version": 3
   },
   "file_extension": ".py",
   "mimetype": "text/x-python",
   "name": "python",
   "nbconvert_exporter": "python",
   "pygments_lexer": "ipython3",
   "version": "3.9.10"
  },
  "orig_nbformat": 4
 },
 "nbformat": 4,
 "nbformat_minor": 2
}
