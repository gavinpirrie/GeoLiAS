{
 "cells": [
  {
   "cell_type": "markdown",
   "source": [
    "# Mongolia Lineaments #\n",
    "Using [geemap](https://geemap.org/) to analyze lineaments generated from Landsat 7 in Mongolia using [Canny Edge Detector](https://developers.google.com/earth-engine/apidocs/ee-algorithms-cannyedgedetector?hl=en) and [Hough Transform](https://developers.google.com/earth-engine/apidocs/ee-algorithms-houghtransform?hl=en)."
   ],
   "metadata": {}
  },
  {
   "cell_type": "code",
   "execution_count": 3,
   "source": [
    "# Import earth engine and geemap\n",
    "\n",
    "import ee\n",
    "import geemap\n",
    "\n",
    "ee.Initialize()\n",
    "#############Import Shapefiles###########\n",
    "mongoShape = ee.FeatureCollection(\"users/pirrie/MongoliaAssets/MongoliaOutline\")\n",
    "potSuture = ee.FeatureCollection(\"users/pirrie/MongoliaAssets/PotentialSuture\")\n",
    "mongoGeom = mongoShape.geometry()\n",
    "\n",
    "Map = geemap.Map(center=[46.935,103.376], zoom=5)\n",
    "\n",
    "# Add Mongolia Shape, Suture\n",
    "Map.addLayer(mongoShape, {'color': '000000'}, 'Mongolia', True, 0.5)\n",
    "Map.addLayer(potSuture, {'color': 'FF0000'}, 'Suture (Zorin)', False, 0.5)\n",
    "\n",
    "# Load Landsat 7 data, filter by date and bounds.\n",
    "collection = ee.ImageCollection(\"LANDSAT/LE07/C01/T1\") \\\n",
    "  .filterDate('2019-01-01', '2021-08-10') \\\n",
    "  .filter(ee.Filter.calendarRange(6, 9, 'month'))\n",
    "\n",
    "# Also filter the collection by the IMAGE_QUALITY property.\n",
    "filtered = collection \\\n",
    "  .filterMetadata('IMAGE_QUALITY', 'equals', 9)\n",
    "\n",
    "# Create two composites to check the effect of filtering by IMAGE_QUALITY.\n",
    "goodComposite = ee.Algorithms.Landsat.simpleComposite(filtered, 75, 3)\n",
    "\n",
    "# Add PC band\n",
    "Panchromatic = goodComposite \\\n",
    "  .clip(mongoShape) \\\n",
    "  .select(['B8'])\n",
    "\n",
    "Map.addLayer(Panchromatic,\n",
    "             {'gain': 1.5},\n",
    "             'Panchromatic',\n",
    "             False)\n",
    "\n",
    "#############Edge Detection###########\n",
    "\n",
    "# Detect edges in the panchromatic composite. Variables are (image, threshold, sigma)\n",
    "canny = ee.Algorithms.CannyEdgeDetector(Panchromatic, 10, 1.5)\n",
    "\n",
    "# Mask the image with itself to get rid of areas with no edges.\n",
    "canny = canny \\\n",
    "  .updateMask(canny)\n",
    "\n",
    "Map.addLayer(canny, {'min': 0, 'max': 1, 'palette': 'FF0000'}, 'CE Pan', False)\n",
    "\n",
    "#############Hough Transformation###########\n",
    "\n",
    "# Perform Hough transform of the Canny result and display.\n",
    "hough = ee.Algorithms.HoughTransform(canny, 256, 64, 300, True)\n",
    "\n",
    "Map.addLayer(hough, {'palette': 'FFFFFF'}, 'hough', True, 0.5)\n",
    "\n",
    "Map"
   ],
   "outputs": [
    {
     "output_type": "display_data",
     "data": {
      "text/plain": [
       "Map(center=[46.935, 103.376], controls=(WidgetControl(options=['position', 'transparent_bg'], widget=HBox(chil…"
      ],
      "application/vnd.jupyter.widget-view+json": {
       "version_major": 2,
       "version_minor": 0,
       "model_id": "2de89849265a415a9d3fdc83b0bb5984"
      }
     },
     "metadata": {}
    }
   ],
   "metadata": {}
  },
  {
   "cell_type": "code",
   "execution_count": null,
   "source": [],
   "outputs": [],
   "metadata": {}
  }
 ],
 "metadata": {
  "orig_nbformat": 4,
  "language_info": {
   "name": "python",
   "version": "3.9.0",
   "mimetype": "text/x-python",
   "codemirror_mode": {
    "name": "ipython",
    "version": 3
   },
   "pygments_lexer": "ipython3",
   "nbconvert_exporter": "python",
   "file_extension": ".py"
  },
  "kernelspec": {
   "name": "python3",
   "display_name": "Python 3.9.0 64-bit"
  },
  "interpreter": {
   "hash": "aee8b7b246df8f9039afb4144a1f6fd8d2ca17a180786b69acc140d282b71a49"
  }
 },
 "nbformat": 4,
 "nbformat_minor": 2
}